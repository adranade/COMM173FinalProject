{
  "nbformat": 4,
  "nbformat_minor": 0,
  "metadata": {
    "colab": {
      "provenance": []
    },
    "kernelspec": {
      "name": "python3",
      "display_name": "Python 3"
    },
    "language_info": {
      "name": "python"
    }
  },
  "cells": [
    {
      "cell_type": "code",
      "execution_count": 1,
      "metadata": {
        "colab": {
          "base_uri": "https://localhost:8080/",
          "height": 74
        },
        "id": "kDoz96ZI1aho",
        "outputId": "a154b705-e7e0-441a-ed39-6a32e88ee46c"
      },
      "outputs": [
        {
          "output_type": "display_data",
          "data": {
            "text/plain": [
              "<IPython.core.display.HTML object>"
            ],
            "text/html": [
              "\n",
              "     <input type=\"file\" id=\"files-a731d3e8-e245-404b-b835-fa8e4630fcf9\" name=\"files[]\" multiple disabled\n",
              "        style=\"border:none\" />\n",
              "     <output id=\"result-a731d3e8-e245-404b-b835-fa8e4630fcf9\">\n",
              "      Upload widget is only available when the cell has been executed in the\n",
              "      current browser session. Please rerun this cell to enable.\n",
              "      </output>\n",
              "      <script>// Copyright 2017 Google LLC\n",
              "//\n",
              "// Licensed under the Apache License, Version 2.0 (the \"License\");\n",
              "// you may not use this file except in compliance with the License.\n",
              "// You may obtain a copy of the License at\n",
              "//\n",
              "//      http://www.apache.org/licenses/LICENSE-2.0\n",
              "//\n",
              "// Unless required by applicable law or agreed to in writing, software\n",
              "// distributed under the License is distributed on an \"AS IS\" BASIS,\n",
              "// WITHOUT WARRANTIES OR CONDITIONS OF ANY KIND, either express or implied.\n",
              "// See the License for the specific language governing permissions and\n",
              "// limitations under the License.\n",
              "\n",
              "/**\n",
              " * @fileoverview Helpers for google.colab Python module.\n",
              " */\n",
              "(function(scope) {\n",
              "function span(text, styleAttributes = {}) {\n",
              "  const element = document.createElement('span');\n",
              "  element.textContent = text;\n",
              "  for (const key of Object.keys(styleAttributes)) {\n",
              "    element.style[key] = styleAttributes[key];\n",
              "  }\n",
              "  return element;\n",
              "}\n",
              "\n",
              "// Max number of bytes which will be uploaded at a time.\n",
              "const MAX_PAYLOAD_SIZE = 100 * 1024;\n",
              "\n",
              "function _uploadFiles(inputId, outputId) {\n",
              "  const steps = uploadFilesStep(inputId, outputId);\n",
              "  const outputElement = document.getElementById(outputId);\n",
              "  // Cache steps on the outputElement to make it available for the next call\n",
              "  // to uploadFilesContinue from Python.\n",
              "  outputElement.steps = steps;\n",
              "\n",
              "  return _uploadFilesContinue(outputId);\n",
              "}\n",
              "\n",
              "// This is roughly an async generator (not supported in the browser yet),\n",
              "// where there are multiple asynchronous steps and the Python side is going\n",
              "// to poll for completion of each step.\n",
              "// This uses a Promise to block the python side on completion of each step,\n",
              "// then passes the result of the previous step as the input to the next step.\n",
              "function _uploadFilesContinue(outputId) {\n",
              "  const outputElement = document.getElementById(outputId);\n",
              "  const steps = outputElement.steps;\n",
              "\n",
              "  const next = steps.next(outputElement.lastPromiseValue);\n",
              "  return Promise.resolve(next.value.promise).then((value) => {\n",
              "    // Cache the last promise value to make it available to the next\n",
              "    // step of the generator.\n",
              "    outputElement.lastPromiseValue = value;\n",
              "    return next.value.response;\n",
              "  });\n",
              "}\n",
              "\n",
              "/**\n",
              " * Generator function which is called between each async step of the upload\n",
              " * process.\n",
              " * @param {string} inputId Element ID of the input file picker element.\n",
              " * @param {string} outputId Element ID of the output display.\n",
              " * @return {!Iterable<!Object>} Iterable of next steps.\n",
              " */\n",
              "function* uploadFilesStep(inputId, outputId) {\n",
              "  const inputElement = document.getElementById(inputId);\n",
              "  inputElement.disabled = false;\n",
              "\n",
              "  const outputElement = document.getElementById(outputId);\n",
              "  outputElement.innerHTML = '';\n",
              "\n",
              "  const pickedPromise = new Promise((resolve) => {\n",
              "    inputElement.addEventListener('change', (e) => {\n",
              "      resolve(e.target.files);\n",
              "    });\n",
              "  });\n",
              "\n",
              "  const cancel = document.createElement('button');\n",
              "  inputElement.parentElement.appendChild(cancel);\n",
              "  cancel.textContent = 'Cancel upload';\n",
              "  const cancelPromise = new Promise((resolve) => {\n",
              "    cancel.onclick = () => {\n",
              "      resolve(null);\n",
              "    };\n",
              "  });\n",
              "\n",
              "  // Wait for the user to pick the files.\n",
              "  const files = yield {\n",
              "    promise: Promise.race([pickedPromise, cancelPromise]),\n",
              "    response: {\n",
              "      action: 'starting',\n",
              "    }\n",
              "  };\n",
              "\n",
              "  cancel.remove();\n",
              "\n",
              "  // Disable the input element since further picks are not allowed.\n",
              "  inputElement.disabled = true;\n",
              "\n",
              "  if (!files) {\n",
              "    return {\n",
              "      response: {\n",
              "        action: 'complete',\n",
              "      }\n",
              "    };\n",
              "  }\n",
              "\n",
              "  for (const file of files) {\n",
              "    const li = document.createElement('li');\n",
              "    li.append(span(file.name, {fontWeight: 'bold'}));\n",
              "    li.append(span(\n",
              "        `(${file.type || 'n/a'}) - ${file.size} bytes, ` +\n",
              "        `last modified: ${\n",
              "            file.lastModifiedDate ? file.lastModifiedDate.toLocaleDateString() :\n",
              "                                    'n/a'} - `));\n",
              "    const percent = span('0% done');\n",
              "    li.appendChild(percent);\n",
              "\n",
              "    outputElement.appendChild(li);\n",
              "\n",
              "    const fileDataPromise = new Promise((resolve) => {\n",
              "      const reader = new FileReader();\n",
              "      reader.onload = (e) => {\n",
              "        resolve(e.target.result);\n",
              "      };\n",
              "      reader.readAsArrayBuffer(file);\n",
              "    });\n",
              "    // Wait for the data to be ready.\n",
              "    let fileData = yield {\n",
              "      promise: fileDataPromise,\n",
              "      response: {\n",
              "        action: 'continue',\n",
              "      }\n",
              "    };\n",
              "\n",
              "    // Use a chunked sending to avoid message size limits. See b/62115660.\n",
              "    let position = 0;\n",
              "    do {\n",
              "      const length = Math.min(fileData.byteLength - position, MAX_PAYLOAD_SIZE);\n",
              "      const chunk = new Uint8Array(fileData, position, length);\n",
              "      position += length;\n",
              "\n",
              "      const base64 = btoa(String.fromCharCode.apply(null, chunk));\n",
              "      yield {\n",
              "        response: {\n",
              "          action: 'append',\n",
              "          file: file.name,\n",
              "          data: base64,\n",
              "        },\n",
              "      };\n",
              "\n",
              "      let percentDone = fileData.byteLength === 0 ?\n",
              "          100 :\n",
              "          Math.round((position / fileData.byteLength) * 100);\n",
              "      percent.textContent = `${percentDone}% done`;\n",
              "\n",
              "    } while (position < fileData.byteLength);\n",
              "  }\n",
              "\n",
              "  // All done.\n",
              "  yield {\n",
              "    response: {\n",
              "      action: 'complete',\n",
              "    }\n",
              "  };\n",
              "}\n",
              "\n",
              "scope.google = scope.google || {};\n",
              "scope.google.colab = scope.google.colab || {};\n",
              "scope.google.colab._files = {\n",
              "  _uploadFiles,\n",
              "  _uploadFilesContinue,\n",
              "};\n",
              "})(self);\n",
              "</script> "
            ]
          },
          "metadata": {}
        },
        {
          "output_type": "stream",
          "name": "stdout",
          "text": [
            "Saving Airline-Sentiment-2-w-AA.csv to Airline-Sentiment-2-w-AA.csv\n"
          ]
        }
      ],
      "source": [
        "# Aditya Ranade\n",
        "# COMM173\n",
        "# Dr. David Jeong\n",
        "# 14 June 2023\n",
        "\n",
        "####### Final Project - Code Report ########\n",
        "\n",
        "# let us start by uploading the necessary files\n",
        "from google.colab import files\n",
        "uploaded = files.upload()"
      ]
    },
    {
      "cell_type": "code",
      "source": [
        "import pandas as pd\n",
        "\n",
        "# Data\n",
        "# my data has already been scraped since I got this data from a source on kaggle\n",
        "# in the real world, this data would be scraped from twitter or any other social media platform\n",
        "\n",
        "airlineTweetData = pd.read_csv('Airline-Sentiment-2-w-AA.csv')\n",
        "print(airlineTweetData)\n",
        "print(airlineTweetData.shape)"
      ],
      "metadata": {
        "colab": {
          "base_uri": "https://localhost:8080/"
        },
        "id": "oswwohTh2H4y",
        "outputId": "eb91f734-3dcc-4709-e531-ffbd81072735"
      },
      "execution_count": 9,
      "outputs": [
        {
          "output_type": "stream",
          "name": "stdout",
          "text": [
            "       index   _unit_id  _golden _unit_state  _trusted_judgments  \\\n",
            "0          0  681448150    False   finalized                   3   \n",
            "1          1  681448153    False   finalized                   3   \n",
            "2          2  681448156    False   finalized                   3   \n",
            "3          3  681448158    False   finalized                   3   \n",
            "4          4  681448159    False   finalized                   3   \n",
            "...      ...        ...      ...         ...                 ...   \n",
            "14635  14635  681679794    False   finalized                   3   \n",
            "14636  14636  681679795    False   finalized                   3   \n",
            "14637  14637  681679796    False   finalized                   3   \n",
            "14638  14638  681679797    False   finalized                   3   \n",
            "14639  14639  681679798    False   finalized                   3   \n",
            "\n",
            "      _last_judgment_at airline_sentiment  airline_sentiment:confidence  \\\n",
            "0          2/25/15 5:24           neutral                        1.0000   \n",
            "1          2/25/15 1:53          positive                        0.3486   \n",
            "2         2/25/15 10:01           neutral                        0.6837   \n",
            "3          2/25/15 3:05          negative                        1.0000   \n",
            "4          2/25/15 5:50          negative                        1.0000   \n",
            "...                 ...               ...                           ...   \n",
            "14635     2/25/15 19:46          positive                        0.3487   \n",
            "14636     2/25/15 19:14          negative                        1.0000   \n",
            "14637     2/25/15 19:04           neutral                        1.0000   \n",
            "14638     2/25/15 18:59          negative                        1.0000   \n",
            "14639     2/25/15 19:06           neutral                        0.6771   \n",
            "\n",
            "               negativereason  negativereason:confidence  ...  \\\n",
            "0                         NaN                        NaN  ...   \n",
            "1                         NaN                     0.0000  ...   \n",
            "2                         NaN                        NaN  ...   \n",
            "3                  Bad Flight                     0.7033  ...   \n",
            "4                  Can't Tell                     1.0000  ...   \n",
            "...                       ...                        ...  ...   \n",
            "14635                     NaN                     0.0000  ...   \n",
            "14636  Customer Service Issue                     1.0000  ...   \n",
            "14637                     NaN                        NaN  ...   \n",
            "14638  Customer Service Issue                     0.6659  ...   \n",
            "14639                     NaN                     0.0000  ...   \n",
            "\n",
            "      airline_sentiment_gold             name negativereason_gold  \\\n",
            "0                        NaN          cairdin                 NaN   \n",
            "1                        NaN         jnardino                 NaN   \n",
            "2                        NaN       yvonnalynn                 NaN   \n",
            "3                        NaN         jnardino                 NaN   \n",
            "4                        NaN         jnardino                 NaN   \n",
            "...                      ...              ...                 ...   \n",
            "14635                    NaN  KristenReenders                 NaN   \n",
            "14636                    NaN         itsropes                 NaN   \n",
            "14637                    NaN         sanyabun                 NaN   \n",
            "14638                    NaN       SraJackson                 NaN   \n",
            "14639                    NaN        daviddtwu                 NaN   \n",
            "\n",
            "      retweet_count                                               text  \\\n",
            "0                 0                @VirginAmerica What @dhepburn said.   \n",
            "1                 0  @VirginAmerica plus you've added commercials t...   \n",
            "2                 0  @VirginAmerica I didn't today... Must mean I n...   \n",
            "3                 0  @VirginAmerica it's really aggressive to blast...   \n",
            "4                 0  @VirginAmerica and it's a really big bad thing...   \n",
            "...             ...                                                ...   \n",
            "14635             0  @AmericanAir thank you we got on a different f...   \n",
            "14636             0  @AmericanAir leaving over 20 minutes Late Flig...   \n",
            "14637             0  @AmericanAir Please bring American Airlines to...   \n",
            "14638             0  @AmericanAir you have my money, you change my ...   \n",
            "14639             0  @AmericanAir we have 8 ppl so we need 2 know h...   \n",
            "\n",
            "      tweet_coord  tweet_created      tweet_id  tweet_location  \\\n",
            "0             NaN  2/24/15 11:35  5.703060e+17             NaN   \n",
            "1             NaN  2/24/15 11:15  5.703010e+17             NaN   \n",
            "2             NaN  2/24/15 11:15  5.703010e+17       Lets Play   \n",
            "3             NaN  2/24/15 11:15  5.703010e+17             NaN   \n",
            "4             NaN  2/24/15 11:14  5.703010e+17             NaN   \n",
            "...           ...            ...           ...             ...   \n",
            "14635         NaN  2/22/15 12:01  5.695880e+17             NaN   \n",
            "14636         NaN  2/22/15 11:59  5.695870e+17           Texas   \n",
            "14637         NaN  2/22/15 11:59  5.695870e+17   Nigeria,lagos   \n",
            "14638         NaN  2/22/15 11:59  5.695870e+17      New Jersey   \n",
            "14639         NaN  2/22/15 11:58  5.695870e+17      dallas, TX   \n",
            "\n",
            "                    user_timezone  \n",
            "0      Eastern Time (US & Canada)  \n",
            "1      Pacific Time (US & Canada)  \n",
            "2      Central Time (US & Canada)  \n",
            "3      Pacific Time (US & Canada)  \n",
            "4      Pacific Time (US & Canada)  \n",
            "...                           ...  \n",
            "14635                         NaN  \n",
            "14636                         NaN  \n",
            "14637                         NaN  \n",
            "14638  Eastern Time (US & Canada)  \n",
            "14639                         NaN  \n",
            "\n",
            "[14640 rows x 21 columns]\n",
            "(14640, 21)\n"
          ]
        }
      ]
    },
    {
      "cell_type": "code",
      "source": [
        "# let's figure out how much null data we have and which columns we can get rid of\n",
        "\n",
        "# data preparation\n",
        "# we need to clean the data to get it to a workable size so we can start performing our analysis\n",
        "# as of now, there are several columns we don't need in order to conduct our analysis\n",
        "\n",
        "nullCounter = airlineTweetData.isna().sum()\n",
        "print(nullCounter)"
      ],
      "metadata": {
        "colab": {
          "base_uri": "https://localhost:8080/"
        },
        "id": "gpUmKztT2mtf",
        "outputId": "3767af57-0689-4d98-933c-938b7701bfce"
      },
      "execution_count": 6,
      "outputs": [
        {
          "output_type": "stream",
          "name": "stdout",
          "text": [
            "index                               0\n",
            "_unit_id                            0\n",
            "_golden                             0\n",
            "_unit_state                         0\n",
            "_trusted_judgments                  0\n",
            "_last_judgment_at                  56\n",
            "airline_sentiment                   0\n",
            "airline_sentiment:confidence        0\n",
            "negativereason                   5462\n",
            "negativereason:confidence        4118\n",
            "airline                             0\n",
            "airline_sentiment_gold          14600\n",
            "name                                0\n",
            "negativereason_gold             14608\n",
            "retweet_count                       0\n",
            "text                                0\n",
            "tweet_coord                     13621\n",
            "tweet_created                       0\n",
            "tweet_id                            0\n",
            "tweet_location                   4733\n",
            "user_timezone                    4820\n",
            "dtype: int64\n"
          ]
        }
      ]
    },
    {
      "cell_type": "code",
      "source": [
        "# Data Cleaning\n",
        "\n",
        "# lets start by dropping index and _unit_id as they are unique to each tweet and we won't use them in our data analysis\n",
        "\n",
        "airlineTweetData.drop('index', axis = 1, inplace = True)\n",
        "airlineTweetData.drop('_unit_id', axis = 1, inplace = True)\n",
        "\n",
        "# next lets drop airline_sentiment_gold, negativereason_gold, and tweet_coord since they have several NaN values which are not helpful to us\n",
        "\n",
        "airlineTweetData.drop('airline_sentiment_gold', axis = 1, inplace = True)\n",
        "airlineTweetData.drop('negativereason_gold', axis = 1, inplace = True)\n",
        "airlineTweetData.drop('tweet_coord', axis = 1, inplace = True)\n",
        "\n",
        "# we don't plan to use tweet location and user_timezone so let's drop that as well\n",
        "\n",
        "airlineTweetData.drop('tweet_location', axis = 1, inplace = True)\n",
        "airlineTweetData.drop('user_timezone', axis = 1, inplace = True)\n",
        "\n",
        "# we also don't care about when tweet was created or the tweet id for our task at hand. the retweet_count also doesn't matter\n",
        "\n",
        "airlineTweetData.drop('tweet_created', axis = 1, inplace = True)\n",
        "airlineTweetData.drop('tweet_id', axis = 1, inplace = True)\n",
        "airlineTweetData.drop('retweet_count', axis = 1, inplace = True)\n",
        "\n",
        "# we also don't plan to use _golden, _unit_state, _trusted_judgments, _last_judgment_at, airline_sentiment:confidence, negativereason:confidence, or name so we can drop all these\n",
        "\n",
        "airlineTweetData.drop('_golden', axis = 1, inplace = True)\n",
        "airlineTweetData.drop('_unit_state', axis = 1, inplace = True)\n",
        "airlineTweetData.drop('_trusted_judgments', axis = 1, inplace = True)\n",
        "airlineTweetData.drop('_last_judgment_at', axis = 1, inplace = True)\n",
        "airlineTweetData.drop('airline_sentiment:confidence', axis = 1, inplace = True)\n",
        "airlineTweetData.drop('negativereason:confidence', axis = 1, inplace = True)\n",
        "airlineTweetData.drop('name', axis = 1, inplace = True)\n",
        "\n",
        "print(airlineTweetData)"
      ],
      "metadata": {
        "colab": {
          "base_uri": "https://localhost:8080/"
        },
        "id": "oHMX7UW_m3Pe",
        "outputId": "48c8be8f-0237-4333-fb41-7efe905cce86"
      },
      "execution_count": 10,
      "outputs": [
        {
          "output_type": "stream",
          "name": "stdout",
          "text": [
            "      airline_sentiment          negativereason         airline  \\\n",
            "0               neutral                     NaN  Virgin America   \n",
            "1              positive                     NaN  Virgin America   \n",
            "2               neutral                     NaN  Virgin America   \n",
            "3              negative              Bad Flight  Virgin America   \n",
            "4              negative              Can't Tell  Virgin America   \n",
            "...                 ...                     ...             ...   \n",
            "14635          positive                     NaN        American   \n",
            "14636          negative  Customer Service Issue        American   \n",
            "14637           neutral                     NaN        American   \n",
            "14638          negative  Customer Service Issue        American   \n",
            "14639           neutral                     NaN        American   \n",
            "\n",
            "                                                    text  \n",
            "0                    @VirginAmerica What @dhepburn said.  \n",
            "1      @VirginAmerica plus you've added commercials t...  \n",
            "2      @VirginAmerica I didn't today... Must mean I n...  \n",
            "3      @VirginAmerica it's really aggressive to blast...  \n",
            "4      @VirginAmerica and it's a really big bad thing...  \n",
            "...                                                  ...  \n",
            "14635  @AmericanAir thank you we got on a different f...  \n",
            "14636  @AmericanAir leaving over 20 minutes Late Flig...  \n",
            "14637  @AmericanAir Please bring American Airlines to...  \n",
            "14638  @AmericanAir you have my money, you change my ...  \n",
            "14639  @AmericanAir we have 8 ppl so we need 2 know h...  \n",
            "\n",
            "[14640 rows x 4 columns]\n"
          ]
        }
      ]
    },
    {
      "cell_type": "code",
      "source": [
        "# find all the unique airlines\n",
        "\n",
        "# Analysis\n",
        "\n",
        "# now we are going to use the cleaned data to start drawing some insights and conclusions\n",
        "uniqueAirlines = airlineTweetData['airline'].unique().tolist()\n",
        "print(uniqueAirlines)"
      ],
      "metadata": {
        "colab": {
          "base_uri": "https://localhost:8080/"
        },
        "id": "32v76IJMdhxo",
        "outputId": "323b569e-7a7c-41f2-aebd-747cfc026408"
      },
      "execution_count": 11,
      "outputs": [
        {
          "output_type": "stream",
          "name": "stdout",
          "text": [
            "['Virgin America', 'United', 'Southwest', 'Delta', 'US Airways', 'American']\n"
          ]
        }
      ]
    },
    {
      "cell_type": "code",
      "source": [
        "# we see that we have 6 different airlines.\n",
        "# now we want to check which airlines have positive vs. negative vs. neutral\n",
        "\n",
        "# we can use the groupby function in python to group the dataset by airline and then by airline sentiment to see the total counts in each\n",
        "# from this we can then generate charts, as well as can see which airline had the most tweets.\n",
        "sentiment_counts = airlineTweetData.groupby(['airline', 'airline_sentiment']).size().reset_index(name='count')\n",
        "print(sentiment_counts)"
      ],
      "metadata": {
        "colab": {
          "base_uri": "https://localhost:8080/"
        },
        "id": "s0_6e9WCdvvi",
        "outputId": "1bc66d62-6b3d-46fb-d5e1-547783c94cab"
      },
      "execution_count": 12,
      "outputs": [
        {
          "output_type": "stream",
          "name": "stdout",
          "text": [
            "           airline airline_sentiment  count\n",
            "0         American          negative   1960\n",
            "1         American           neutral    463\n",
            "2         American          positive    336\n",
            "3            Delta          negative    955\n",
            "4            Delta           neutral    723\n",
            "5            Delta          positive    544\n",
            "6        Southwest          negative   1186\n",
            "7        Southwest           neutral    664\n",
            "8        Southwest          positive    570\n",
            "9       US Airways          negative   2263\n",
            "10      US Airways           neutral    381\n",
            "11      US Airways          positive    269\n",
            "12          United          negative   2633\n",
            "13          United           neutral    697\n",
            "14          United          positive    492\n",
            "15  Virgin America          negative    181\n",
            "16  Virgin America           neutral    171\n",
            "17  Virgin America          positive    152\n"
          ]
        }
      ]
    },
    {
      "cell_type": "code",
      "source": [
        "# let's see the total values now:\n",
        "\n",
        "# use groupby feature and .sum() functionality to print this\n",
        "total_sentiments = sentiment_counts.groupby('airline')['count'].sum()\n",
        "print(total_sentiments)"
      ],
      "metadata": {
        "colab": {
          "base_uri": "https://localhost:8080/"
        },
        "id": "tdyHm6TrglHj",
        "outputId": "b0980c58-7cd5-4ed0-de0b-2dcaab3775bc"
      },
      "execution_count": 13,
      "outputs": [
        {
          "output_type": "stream",
          "name": "stdout",
          "text": [
            "airline\n",
            "American          2759\n",
            "Delta             2222\n",
            "Southwest         2420\n",
            "US Airways        2913\n",
            "United            3822\n",
            "Virgin America     504\n",
            "Name: count, dtype: int64\n"
          ]
        }
      ]
    },
    {
      "cell_type": "code",
      "source": [
        "# let's plot the total sentiments in a bar graph to get a visual, and then we will plot for individual airlines\n",
        "\n",
        "import matplotlib.pyplot as plt\n",
        "\n",
        "total_sentiments.plot(kind = 'bar')\n",
        "plt.xlabel('Airline')\n",
        "plt.ylabel('Total Sentiments')\n",
        "plt.title('Total Sentiments for Each Airline')\n",
        "plt.xticks(rotation = 45)\n",
        "plt.show()"
      ],
      "metadata": {
        "colab": {
          "base_uri": "https://localhost:8080/",
          "height": 540
        },
        "id": "4bs-qsJ4g326",
        "outputId": "49121d7c-f320-4947-d7cd-a9c20978dbf2"
      },
      "execution_count": 14,
      "outputs": [
        {
          "output_type": "display_data",
          "data": {
            "text/plain": [
              "<Figure size 640x480 with 1 Axes>"
            ],
            "image/png": "[encoded data removed]"
          },
          "metadata": {}
        }
      ]
    },
    {
      "cell_type": "code",
      "source": [
        "# now let's plot the individual values for each airline:\n",
        "\n",
        "import pandas as pd\n",
        "import matplotlib.pyplot as plt\n",
        "import seaborn as sns\n",
        "\n",
        "# we can use the pivot functionality to get these values in a single bar graph:\n",
        "\n",
        "pivot_sentiment_counts = sentiment_counts.pivot(index = 'airline', columns = 'airline_sentiment', values = 'count')\n",
        "pivot_sentiment_counts.plot(kind = 'bar', stacked = False, color = ['red', 'blue', 'green'])\n",
        "plt.xlabel('Airline')\n",
        "plt.ylabel('Count')\n",
        "plt.title('Sentiment Count for Each Airline')\n",
        "plt.xticks(rotation = 45)\n",
        "plt.show()"
      ],
      "metadata": {
        "colab": {
          "base_uri": "https://localhost:8080/",
          "height": 540
        },
        "id": "ED0fYmoWg3xR",
        "outputId": "5657a2b4-9d3e-40f4-c159-af997faede83"
      },
      "execution_count": 16,
      "outputs": [
        {
          "output_type": "display_data",
          "data": {
            "text/plain": [
              "<Figure size 640x480 with 1 Axes>"
            ],
            "image/png": "[encoded data removed]"
          },
          "metadata": {}
        }
      ]
    },
    {
      "cell_type": "code",
      "source": [
        "# the next step in the analysis would be to look at the stocks on Feb 25th of each of these airlines and see how the stock did.\n",
        "# we would expect to see the stock go lower if there are more negative tweets. But if there are not as many negative tweets like for delta or southwest, we\n",
        "# would expect to see the stock go down a little bit or even potentially go up.\n",
        "\n",
        "# It would also be wise to look at the stock the next day after, to see if the stock price was affected, as in a real life situation, what would happen is that\n",
        "# the tweets would be scraped after the day is over, and predictions would be made for the day/week after. There is no way it could tell what happened in the stock price\n",
        "# during the day since hindsight is always 20/20.\n",
        "\n",
        "# after this, we can move on to the second part of the project, which is using the nltk sentiment analyzer on vader.\n",
        "# what we would do for analysis here is to first take the text portion of each tweet, remove the @ with the airline name,\n",
        "# tokenize the tweet, remove stopwords, and perform sentiment analysis on that phrase of words, and use the SIA to classify the text of each\n",
        "# tweet as neutral, positive, or negative. We would then use this information to compare to the labels that have been put by humans in this dataset\n",
        "# and analyze which tweets were labeled differently by the machine and the human. This would assume that the human has labeled all data correctly, and would tell us\n",
        "# how accurate the sentiment intensity analyzer is.\n",
        "\n",
        "# this would require us to go through all the steps again so we will pause here since the steps have already been gone through for the first part of the project"
      ],
      "metadata": {
        "id": "iqOgIQfQjfRI"
      },
      "execution_count": 17,
      "outputs": []
    }
  ]
}